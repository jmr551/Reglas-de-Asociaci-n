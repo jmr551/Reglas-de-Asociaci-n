{
  "nbformat": 4,
  "nbformat_minor": 0,
  "metadata": {
    "colab": {
      "provenance": []
    },
    "kernelspec": {
      "name": "python3",
      "display_name": "Python 3"
    },
    "language_info": {
      "name": "python"
    }
  },
  "cells": [
    {
      "cell_type": "markdown",
      "source": [
        "# Capítulo 1: Introducción a las Reglas de Asociación\n",
        "\n",
        "## 1.1 Definición y Origen\n",
        "\n",
        "Las **reglas de asociación** son una técnica fundamental en la minería de datos que busca descubrir relaciones interesantes, útiles y a menudo ocultas entre conjuntos de elementos en grandes bases de datos. Una regla de asociación es una implicación del tipo:\n",
        "\n",
        "$$X\\implies Y$$\n",
        "\n",
        "donde $X$ e $Y$ son conjuntos de ítems (itemsets) y $X\\cap Y = \\emptyset$. Esta regla sugiere que cuando ocurre el conjunto de ítems $X$, es probable que también ocurra el conjunto $Y$.\n",
        "\n",
        "### Origen\n",
        "\n",
        "El concepto de reglas de asociación se originó a principios de la década de 1990, principalmente a través del trabajo de **Rakesh Agrawal**, **Tomasz Imieliński** y **Arun Swami** en 1993. Su investigación se centró en el análisis de la cesta de la compra (market basket analysis) para entender los patrones de compra de los clientes en supermercados.\n",
        "\n",
        "El objetivo era identificar combinaciones de productos que los clientes suelen comprar juntos. Esta información es invaluable para estrategias de marketing, disposición de productos en tiendas y promociones.\n",
        "\n",
        "## 1.2 Aplicaciones en la Minería de Datos\n",
        "\n",
        "Las reglas de asociación tienen una amplia gama de aplicaciones más allá del análisis de la cesta de la compra:\n",
        "\n",
        "- **Recomendación de Productos**: Plataformas de comercio electrónico utilizan reglas de asociación para sugerir productos adicionales que un cliente podría estar interesado en comprar.\n",
        "- **Detección de Fraudes**: En finanzas, ayudan a identificar patrones sospechosos que pueden indicar actividades fraudulentas.\n",
        "- **Análisis de Secuencias**: En bioinformática, para descubrir patrones en secuencias de ADN o proteínas.\n",
        "- **Minería Web**: Analizan el comportamiento de navegación de los usuarios para mejorar la experiencia en sitios web.\n",
        "- **Diagnóstico Médico**: Identifican relaciones entre síntomas y enfermedades, ayudando en el diagnóstico y tratamiento.\n",
        "- **Gestión de Inventario**: Ayudan a optimizar el stock basándose en patrones de demanda conjunta.\n",
        "\n",
        "## 1.3 Importancia y Motivación\n",
        "\n",
        "### Importancia\n",
        "\n",
        "- **Descubrimiento de Conocimiento**: Permiten extraer información valiosa y no trivial de grandes volúmenes de datos.\n",
        "- **Toma de Decisiones Informada**: Ayudan a las empresas y organizaciones a tomar decisiones basadas en datos, mejorando estrategias y operaciones.\n",
        "- **Personalización**: Facilitan la adaptación de servicios y productos a las necesidades y preferencias de los clientes.\n",
        "\n",
        "### Motivación para Estudiarlas\n",
        "\n",
        "- **Versatilidad**: Las reglas de asociación son aplicables en diversos campos y tipos de datos.\n",
        "- **Simplicidad Conceptual**: Aunque pueden involucrar cálculos complejos, el concepto básico es fácil de entender e interpretar.\n",
        "- **Valor Comercial**: El dominio de esta técnica es altamente valorado en la industria, especialmente en roles relacionados con análisis de datos y ciencia de datos.\n",
        "- **Base para Técnicas Avanzadas**: Entender las reglas de asociación es fundamental para aprender algoritmos y métodos más avanzados en minería de datos y aprendizaje automático.\n",
        "\n",
        "## 1.4 Ejemplo Práctico Introductorio en Python\n",
        "\n",
        "A continuación, exploraremos un ejemplo sencillo para ilustrar cómo funcionan las reglas de asociación utilizando Python. Usaremos un pequeño conjunto de datos y calcularemos manualmente algunas medidas básicas.\n",
        "\n",
        "### Paso 1: Preparar el Conjunto de Datos\n",
        "\n",
        "Supongamos que tenemos las siguientes transacciones en una tienda:\n",
        "\n",
        "| Transacción | Ítems Comprados |\n",
        "| --- | --- |\n",
        "| 1 | Leche, Pan |\n",
        "| 2 | Leche, Pañales, Cerveza, Huevos |\n",
        "| 3 | Leche, Pan, Pañales, Cerveza |\n",
        "| 4 | Pan, Pañales, Cerveza |\n",
        "| 5 | Leche, Pan, Cerveza, Coca-Cola |\n",
        "\n",
        "### Paso 2: Representar los Datos en Python\n",
        "\n",
        "Primero, representaremos las transacciones como una lista de listas.\n"
      ],
      "metadata": {
        "id": "Ul8EY5GHtCg5"
      }
    },
    {
      "cell_type": "code",
      "source": [
        "# Lista de transacciones\n",
        "transacciones = [\n",
        "    ['Leche', 'Pan'],\n",
        "    ['Leche', 'Pañales', 'Cerveza', 'Huevos'],\n",
        "    ['Leche', 'Pan', 'Pañales', 'Cerveza'],\n",
        "    ['Pan', 'Pañales', 'Cerveza'],\n",
        "    ['Leche', 'Pan', 'Cerveza', 'Coca-Cola']\n",
        "]\n"
      ],
      "metadata": {
        "id": "MwLBt6u4tCC2"
      },
      "execution_count": 1,
      "outputs": []
    },
    {
      "cell_type": "markdown",
      "source": [
        "### Paso 3: Generar los Itemsets\n",
        "\n",
        "Ahora, queremos encontrar los itemsets frecuentes y calcular el soporte de ciertos conjuntos de ítems.\n",
        "\n",
        "### Definiciones:\n",
        "\n",
        "- **Soporte**: Proporción de transacciones que contienen un conjunto de ítems respecto al total de transacciones.\n",
        "$\\text{soporte(A)}= \\frac{\\text{Número total de transacciones que contienen } A}{\\text{Número total de transacciones}}$\n",
        "\n",
        "### Calculando el Soporte de Algunos Ítems\n",
        "\n",
        "Vamos a calcular el soporte de los siguientes ítems y combinaciones:\n",
        "\n",
        "- Soporte de **{'Leche'}**\n",
        "- Soporte de **{'Pan'}**\n",
        "- Soporte de **{'Leche', 'Pan'}**\n",
        "- Soporte de **{'Pañales', 'Cerveza'}**"
      ],
      "metadata": {
        "id": "sK8zhNUjtX3X"
      }
    },
    {
      "cell_type": "code",
      "source": [
        "def calcular_soporte(itemset, transacciones):\n",
        "    conteo = sum(1 for transaccion in transacciones if set(itemset).issubset(set(transaccion)))\n",
        "    soporte = conteo / len(transacciones)\n",
        "    return soporte\n",
        "\n",
        "# Cálculo de soportes\n",
        "itemsets = [\n",
        "    ['Leche'],\n",
        "    ['Pan'],\n",
        "    ['Leche', 'Pan'],\n",
        "    ['Pañales', 'Cerveza']\n",
        "]\n",
        "\n",
        "for itemset in itemsets:\n",
        "    soporte = calcular_soporte(itemset, transacciones)\n",
        "    print(f\"Soporte de {itemset}: {soporte:.2f}\")"
      ],
      "metadata": {
        "colab": {
          "base_uri": "https://localhost:8080/"
        },
        "id": "mBT5cfQ8tdIQ",
        "outputId": "1ef40d2f-a882-4845-c6f8-84de598e0580"
      },
      "execution_count": 2,
      "outputs": [
        {
          "output_type": "stream",
          "name": "stdout",
          "text": [
            "Soporte de ['Leche']: 0.80\n",
            "Soporte de ['Pan']: 0.80\n",
            "Soporte de ['Leche', 'Pan']: 0.60\n",
            "Soporte de ['Pañales', 'Cerveza']: 0.60\n"
          ]
        }
      ]
    },
    {
      "cell_type": "markdown",
      "source": [
        "**Salida:**\n",
        "\n",
        "```less\n",
        "Soporte de ['Leche']: 0.80\n",
        "Soporte de ['Pan']: 0.80\n",
        "Soporte de ['Leche', 'Pan']: 0.60\n",
        "Soporte de ['Pañales', 'Cerveza']: 0.60\n",
        "\n",
        "```\n",
        "\n",
        "### Paso 4: Generar Reglas de Asociación y Calcular Confianza\n",
        "\n",
        "### Definiciones:\n",
        "\n",
        "- **Confianza**: Medida de la probabilidad de que $Y$ ocurra dado que $X$ ha ocurrido. Se calcula como:\n",
        "    \n",
        "$\\text{Confianza}(X \\implies Y) = \\frac{\\text{Soporte}(X \\cap Y)}{\\text{Soporte}(X)}$\n",
        "\n",
        "Vamos a calcular la confianza de las siguientes reglas:\n",
        "\n",
        "1. **{'Leche'} ⇒ {'Pan'}**\n",
        "2. **{'Pan'} ⇒ {'Leche'}**\n",
        "3. **{'Pañales'} ⇒ {'Cerveza'}**\n",
        "4. **{'Cerveza'} ⇒ {'Pañales'}**\n",
        "\n"
      ],
      "metadata": {
        "id": "IMfcW7eAzKUV"
      }
    },
    {
      "cell_type": "code",
      "source": [
        "def calcular_confianza(antecedente, consecuente, transacciones):\n",
        "    soporte_antecedente = calcular_soporte(antecedente, transacciones)\n",
        "    soporte_interseccion = calcular_soporte(antecedente + consecuente, transacciones)\n",
        "    if soporte_antecedente == 0:\n",
        "        return 0\n",
        "    confianza = soporte_interseccion / soporte_antecedente\n",
        "    return confianza\n",
        "\n",
        "# Reglas y sus confianzas\n",
        "reglas = [\n",
        "    (['Leche'], ['Pan']),\n",
        "    (['Pan'], ['Leche']),\n",
        "    (['Pañales'], ['Cerveza']),\n",
        "    (['Cerveza'], ['Pañales'])\n",
        "]\n",
        "\n",
        "for antecedente, consecuente in reglas:\n",
        "    confianza = calcular_confianza(antecedente, consecuente, transacciones)\n",
        "    print(f\"Confianza de {antecedente} ⇒ {consecuente}: {confianza:.2f}\")\n",
        "\n"
      ],
      "metadata": {
        "colab": {
          "base_uri": "https://localhost:8080/"
        },
        "id": "rIvWVNmNzJ0s",
        "outputId": "c3e5efc0-8ea9-47e8-c3ca-d5026a620615"
      },
      "execution_count": 3,
      "outputs": [
        {
          "output_type": "stream",
          "name": "stdout",
          "text": [
            "Confianza de ['Leche'] ⇒ ['Pan']: 0.75\n",
            "Confianza de ['Pan'] ⇒ ['Leche']: 0.75\n",
            "Confianza de ['Pañales'] ⇒ ['Cerveza']: 1.00\n",
            "Confianza de ['Cerveza'] ⇒ ['Pañales']: 0.75\n"
          ]
        }
      ]
    },
    {
      "cell_type": "markdown",
      "source": [
        "\n",
        "**Salida:**\n",
        "```\n",
        "Confianza de ['Leche'] ⇒ ['Pan']: 0.75\n",
        "Confianza de ['Pan'] ⇒ ['Leche']: 0.75\n",
        "Confianza de ['Pañales'] ⇒ ['Cerveza']: 1.00\n",
        "Confianza de ['Cerveza'] ⇒ ['Pañales']: 0.75\n",
        "\n",
        "```\n",
        "\n",
        "### Interpretación de Resultados\n",
        "\n",
        "- **Regla 1**: El 75% de las veces que se compra **Leche**, también se compra **Pan**.\n",
        "- **Regla 3**: El 100% de las veces que se compra **Pañales**, también se compra **Cerveza**.\n",
        "\n",
        "Estas reglas pueden ser útiles para decisiones de marketing, como promociones conjuntas o disposición de productos.\n",
        "\n",
        "### Paso 5: Visualización de los Resultados\n",
        "\n",
        "Para una mejor comprensión, podemos crear una matriz de calor que muestre la confianza entre diferentes ítems."
      ],
      "metadata": {
        "id": "4-zJw_7yJJea"
      }
    },
    {
      "cell_type": "code",
      "source": [
        "import pandas as pd\n",
        "import seaborn as sns\n",
        "import matplotlib.pyplot as plt\n",
        "\n",
        "# Lista de todos los ítems únicos\n",
        "todos_los_items = list(set(item for transaccion in transacciones for item in transaccion))\n",
        "\n",
        "# Crear una matriz vacía\n",
        "confianza_matrix = pd.DataFrame(index=todos_los_items, columns=todos_los_items)\n",
        "\n",
        "# Calcular la confianza para cada par de ítems\n",
        "for antecedente in todos_los_items:\n",
        "    for consecuente in todos_los_items:\n",
        "        if antecedente != consecuente:\n",
        "            confianza = calcular_confianza([antecedente], [consecuente], transacciones)\n",
        "            confianza_matrix.loc[antecedente, consecuente] = confianza\n",
        "        else:\n",
        "            confianza_matrix.loc[antecedente, consecuente] = None  # Evitar confianza de un ítem a sí mismo\n",
        "\n",
        "# Convertir a tipo numérico y rellenar NaN con 0\n",
        "confianza_matrix = confianza_matrix.astype(float)\n",
        "\n",
        "# Graficar la matriz de calor\n",
        "plt.figure(figsize=(8,6))\n",
        "sns.heatmap(confianza_matrix, annot=True, cmap=\"coolwarm\")\n",
        "plt.title('Matriz de Confianza entre Ítems')\n",
        "plt.show()"
      ],
      "metadata": {
        "colab": {
          "base_uri": "https://localhost:8080/",
          "height": 545
        },
        "id": "lGbdMsY6JJIq",
        "outputId": "1ec8171b-ec51-4080-aaad-b81d450088f9"
      },
      "execution_count": 6,
      "outputs": [
        {
          "output_type": "display_data",
          "data": {
            "text/plain": [
              "<Figure size 800x600 with 2 Axes>"
            ],
            "image/png": "[encoded data removed]"
          },
          "metadata": {}
        }
      ]
    },
    {
      "cell_type": "markdown",
      "source": [
        "\n",
        "\n",
        "**Nota:** La matriz de calor nos muestra visualmente la confianza entre diferentes pares de ítems, facilitando la identificación de relaciones fuertes.\n",
        "\n",
        "### Conclusión del Ejemplo\n",
        "\n",
        "Este ejemplo ilustra cómo se pueden descubrir patrones y relaciones significativas entre ítems en un conjunto de transacciones utilizando Python. Aunque el conjunto de datos es pequeño, los conceptos y métodos aplicados aquí son fundamentales y escalables a conjuntos de datos mucho más grandes y complejos.\n",
        "\n",
        "---\n",
        "\n",
        "## Resumen del Capítulo\n",
        "\n",
        "En este capítulo, hemos introducido el concepto de reglas de asociación, explorando su definición, origen y aplicaciones en la minería de datos. Hemos discutido su importancia y motivación para estudiarlas, destacando su versatilidad y valor en la extracción de conocimiento de grandes volúmenes de datos.\n",
        "\n",
        "A través de un ejemplo práctico en Python, hemos demostrado cómo representar transacciones, calcular soporte y confianza, y generar reglas de asociación simples. Este ejemplo sienta las bases para los capítulos siguientes, donde profundizaremos en algoritmos y técnicas avanzadas para la minería de reglas de asociación.\n",
        "\n",
        "---\n",
        "\n",
        "## Ejercicios de Repaso\n",
        "\n",
        "1. **Definición de Conceptos**:\n",
        "    - Explique en sus propias palabras qué es una regla de asociación.\n",
        "    - ¿Qué representan el soporte y la confianza en el contexto de las reglas de asociación?\n",
        "2. **Cálculo Manual**:\n",
        "    - Dado el conjunto de transacciones utilizado en el ejemplo, calcule manualmente el soporte de {'Cerveza'}.\n",
        "    - Calcule la confianza de la regla {'Leche', 'Pan'} ⇒ {'Cerveza'}.\n",
        "3. **Análisis Crítico**:\n",
        "    - ¿Por qué es importante que el antecedente y el consecuente de una regla de asociación sean conjuntos disjuntos?\n",
        "    - Discuta cómo el tamaño del conjunto de datos afecta la fiabilidad de las reglas de asociación descubiertas.\n",
        "4. **Aplicaciones Prácticas**:\n",
        "    - Mencione al menos dos aplicaciones de las reglas de asociación en áreas distintas al comercio minorista.\n",
        "    - ¿Cómo podrían las reglas de asociación ayudar en el diseño de una campaña de marketing?\n",
        "---\n",
        "\n",
        "Este capítulo sirve como base para entender los conceptos fundamentales de las reglas de asociación. En los próximos capítulos, exploraremos algoritmos eficientes para descubrir reglas de asociación en grandes conjuntos de datos y profundizaremos en técnicas avanzadas para evaluar y optimizar estas reglas."
      ],
      "metadata": {
        "id": "YphVE-xtCUO0"
      }
    }
  ]
}