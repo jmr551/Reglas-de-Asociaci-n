{
  "nbformat": 4,
  "nbformat_minor": 0,
  "metadata": {
    "colab": {
      "provenance": []
    },
    "kernelspec": {
      "name": "python3",
      "display_name": "Python 3"
    },
    "language_info": {
      "name": "python"
    }
  },
  "cells": [
    {
      "cell_type": "markdown",
      "source": [
        "# Capítulo 2: Conceptos Básicos\n",
        "\n",
        "## 2.1 Itemsets y Transacciones\n",
        "\n",
        "### Definición de Transacciones\n",
        "\n",
        "En el contexto de las reglas de asociación y la minería de datos, una **transacción** es una colección de ítems que ocurren juntos en una sola instancia. Por ejemplo, en una tienda minorista, una transacción podría representar todos los productos comprados por un cliente en una visita.\n",
        "\n",
        "- **Transacción**: Conjunto de ítems asociados que ocurren juntos.\n",
        "\n",
        "Matemáticamente, podemos representar un conjunto de transacciones como:\n",
        "\n",
        "$$\\mathcal{T} = \\{ T_1, T_2, \\dots, T_n \\}$$\n",
        "\n",
        "donde cada $ T_i $ es una transacción y es un subconjunto del conjunto total de ítems $ \\mathcal{I} $.\n",
        "\n",
        "### Definición de Itemsets\n",
        "\n",
        "Un **itemset** es simplemente un conjunto de uno o más ítems. Los itemsets son los elementos fundamentales para generar reglas de asociación.\n",
        "\n",
        "- **Itemset**: Subconjunto de ítems de $ \\mathcal{I} $.\n",
        "\n",
        "Un itemset puede ser:\n",
        "\n",
        "- **Itemset de tamaño 1**: Contiene un solo ítem, por ejemplo, {Leche}.\n",
        "- **Itemset de tamaño 2**: Contiene dos ítems, por ejemplo, {Leche, Pan}.\n",
        "- Y así sucesivamente.\n",
        "\n",
        "### Frecuencia de Itemsets\n",
        "\n",
        "La frecuencia de un itemset se refiere al número de transacciones en las que aparece. Un itemset es considerado **frecuente** si su frecuencia supera un umbral mínimo especificado.\n",
        "\n",
        "## 2.2 Medidas de Interés Básicas: Soporte y Confianza\n",
        "\n",
        "Para evaluar la importancia y relevancia de los itemsets y las reglas de asociación, utilizamos medidas de interés. Las dos medidas básicas son **soporte** y **confianza**.\n",
        "\n",
        "### Soporte\n",
        "\n",
        "El **soporte** de un itemset es la proporción de transacciones que contienen el itemset respecto al total de transacciones. Es una medida de la popularidad o frecuencia del itemset en el conjunto de datos.\n",
        "\n",
        "#### Definición Matemática\n",
        "\n",
        "Para un itemset $X$, el soporte se define como:\n",
        "\n",
        "\n",
        "$$ \\text{Soporte}(X) = \\frac{\\text{Número de transacciones que contienen } X}{\\text{Número total de transacciones}} $$\n",
        "\n",
        "$$ \\text{Soporte}(X) = \\frac{| \\{ T_i \\in \\mathcal{T} \\mid X \\subseteq T_i \\} |}{|\\mathcal{T}|} $$\n",
        "\n",
        "El soporte es un valor entre 0 y 1.\n",
        "\n",
        "### Confianza\n",
        "\n",
        "La **confianza** de una regla de asociación $ X \\implies Y $ es la probabilidad de que una transacción que contiene $ X $ también contenga $ Y $. Mide la fiabilidad de la implicación.\n",
        "\n",
        "#### Definición Matemática\n",
        "\n",
        "Para una regla $ X \\implies Y $, la confianza se define como:\n",
        "\n",
        "$$ \\text{Confianza}(X \\implies Y) = \\frac{\\text{Soporte}(X \\cup Y)}{\\text{Soporte}(X)} $$\n",
        "\n",
        "Es decir, es la proporción de transacciones que contienen tanto $ X $ como $ Y $ respecto a las que contienen $ X $.\n",
        "\n",
        "La confianza también es un valor entre 0 y 1.\n",
        "\n",
        "### Ejemplo Ilustrativo\n",
        "\n",
        "Supongamos que tenemos 100 transacciones, y encontramos que:\n",
        "\n",
        "- 30 transacciones contienen $ X $.\n",
        "- 20 transacciones contienen tanto $ X $ como $ Y $.\n",
        "\n",
        "Entonces:\n",
        "\n",
        "- Soporte de $ X $:\n",
        "\n",
        "$$ \\text{Soporte}(X) = \\frac{30}{100} = 0.30 $$\n",
        "\n",
        "- Soporte de $ X \\cup Y $:\n",
        "\n",
        "$$ \\text{Soporte}(X \\cup Y) = \\frac{20}{100} = 0.20 $$\n",
        "\n",
        "- Confianza de $ X \\implies Y $:\n",
        "\n",
        "$$ \\text{Confianza}(X \\implies Y) = \\frac{\\text{Soporte}(X \\cup Y)}{\\text{Soporte}(X)} = \\frac{0.20}{0.30} = 0.6667 $$\n",
        "\n",
        "Esto significa que en el 66.67% de las veces que ocurre $ X $, también ocurre $ Y $.\n",
        "\n",
        "## 2.3 Implementación en Python\n",
        "\n",
        "### Representación de Transacciones\n",
        "\n",
        "Para trabajar con transacciones en Python, podemos utilizar estructuras de datos como listas o conjuntos (sets). Los conjuntos son especialmente útiles debido a su eficiencia en operaciones de pertenencia y su capacidad para eliminar duplicados.\n",
        "\n",
        "#### Paso 1: Definir el Conjunto de Transacciones\n",
        "\n",
        "Continuaremos con el conjunto de datos del Capítulo 1:"
      ],
      "metadata": {
        "id": "cX-s4oJm_P6H"
      }
    },
    {
      "cell_type": "code",
      "source": [
        "# Lista de transacciones\n",
        "transacciones = [\n",
        "    {'Leche', 'Pan'},\n",
        "    {'Leche', 'Pañales', 'Cerveza', 'Huevos'},\n",
        "    {'Leche', 'Pan', 'Pañales', 'Cerveza'},\n",
        "    {'Pan', 'Pañales', 'Cerveza'},\n",
        "    {'Leche', 'Pan', 'Cerveza', 'Coca-Cola'}\n",
        "]"
      ],
      "metadata": {
        "id": "0AWggEi-_Pmn"
      },
      "execution_count": 1,
      "outputs": []
    },
    {
      "cell_type": "markdown",
      "source": [
        "**Nota:** Utilizamos conjuntos `{}` en lugar de listas `[]` para las transacciones.\n",
        "\n",
        "#### Paso 2: Extraer el Conjunto de Ítems Únicos\n",
        "\n",
        "Podemos obtener todos los ítems únicos presentes en las transacciones:"
      ],
      "metadata": {
        "id": "m8skYKr9_avW"
      }
    },
    {
      "cell_type": "code",
      "source": [
        "# Obtener todos los ítems únicos\n",
        "items_unicos = set()\n",
        "for transaccion in transacciones:\n",
        "    items_unicos.update(transaccion)\n",
        "\n",
        "print(\"Ítems únicos:\", items_unicos)"
      ],
      "metadata": {
        "colab": {
          "base_uri": "https://localhost:8080/"
        },
        "id": "sFzRvB5Y_abk",
        "outputId": "d946b560-4cb8-4744-e28a-d9a4a7c89e2b"
      },
      "execution_count": 9,
      "outputs": [
        {
          "output_type": "stream",
          "name": "stdout",
          "text": [
            "Ítems únicos: {'Leche', 'Pan', 'Coca-Cola', 'Huevos', 'Pañales', 'Cerveza'}\n"
          ]
        }
      ]
    },
    {
      "cell_type": "markdown",
      "source": [
        "**Salida:**\n",
        "\n",
        "```\n",
        "Ítems únicos: {'Coca-Cola', 'Pan', 'Huevos', 'Leche', 'Cerveza', 'Pañales'}\n",
        "```\n",
        "\n",
        "### Cálculo de Medidas Básicas\n",
        "\n",
        "Ahora, implementaremos funciones para calcular el soporte y la confianza de itemsets y reglas.\n",
        "\n",
        "#### Cálculo del Soporte\n",
        "\n",
        "Implementaremos una función que calcula el soporte de un itemset dado."
      ],
      "metadata": {
        "id": "MYJ38WcIYuwR"
      }
    },
    {
      "cell_type": "code",
      "source": [
        "def calcular_soporte(itemset, transacciones):\n",
        "    conteo = sum(1 for transaccion in transacciones if itemset.issubset(transaccion))\n",
        "    soporte = conteo / len(transacciones)\n",
        "    return soporte"
      ],
      "metadata": {
        "id": "QXcGKNIfYuig"
      },
      "execution_count": 10,
      "outputs": []
    },
    {
      "cell_type": "markdown",
      "source": [
        "**Ejemplo de Uso:**\n",
        "\n",
        "Calculamos el soporte de \\{'Leche'\\}:"
      ],
      "metadata": {
        "id": "33E3QlCtahdo"
      }
    },
    {
      "cell_type": "code",
      "source": [
        "itemset = {'Leche'}\n",
        "soporte_leche = calcular_soporte(itemset, transacciones)\n",
        "print(f\"Soporte de {itemset}: {soporte_leche:.2f}\")"
      ],
      "metadata": {
        "colab": {
          "base_uri": "https://localhost:8080/"
        },
        "id": "pHKVPk7_ahHS",
        "outputId": "778757ef-047f-4808-80d4-32032cf6c9b3"
      },
      "execution_count": 11,
      "outputs": [
        {
          "output_type": "stream",
          "name": "stdout",
          "text": [
            "Soporte de {'Leche'}: 0.80\n"
          ]
        }
      ]
    },
    {
      "cell_type": "markdown",
      "source": [
        "**Salida:**\n",
        "\n",
        "```\n",
        "Soporte de {'Leche'}: 0.80\n",
        "```\n",
        "\n",
        "#### Cálculo de la Confianza\n",
        "\n",
        "Implementaremos una función para calcular la confianza de una regla $ X \\implies Y $."
      ],
      "metadata": {
        "id": "OT75CbPVauXP"
      }
    },
    {
      "cell_type": "code",
      "source": [
        "def calcular_confianza(antecedente, consecuente, transacciones):\n",
        "    soporte_antecedente = calcular_soporte(antecedente, transacciones)\n",
        "    soporte_union = calcular_soporte(antecedente.union(consecuente), transacciones)\n",
        "    if soporte_antecedente == 0:\n",
        "        return 0\n",
        "    confianza = soporte_union / soporte_antecedente\n",
        "    return confianza"
      ],
      "metadata": {
        "id": "ZKlbJZQ4auK5"
      },
      "execution_count": 12,
      "outputs": []
    },
    {
      "cell_type": "markdown",
      "source": [
        "**Ejemplo de Uso:**\n",
        "\n",
        "Calculamos la confianza de la regla \\{'Leche'\\} ⇒ \\{'Pan'\\}:"
      ],
      "metadata": {
        "id": "4uw-mXAvbse6"
      }
    },
    {
      "cell_type": "code",
      "source": [
        "antecedente = {'Leche'}\n",
        "consecuente = {'Pan'}\n",
        "confianza_regla = calcular_confianza(antecedente, consecuente, transacciones)\n",
        "print(f\"Confianza de {antecedente} ⇒ {consecuente}: {confianza_regla:.2f}\")\n"
      ],
      "metadata": {
        "colab": {
          "base_uri": "https://localhost:8080/"
        },
        "id": "0wcn_0bpbsUQ",
        "outputId": "69208c38-9f77-43c1-8416-4d5239d2d90c"
      },
      "execution_count": 13,
      "outputs": [
        {
          "output_type": "stream",
          "name": "stdout",
          "text": [
            "Confianza de {'Leche'} ⇒ {'Pan'}: 0.75\n"
          ]
        }
      ]
    },
    {
      "cell_type": "markdown",
      "source": [
        "**Salida:**\n",
        "\n",
        "```\n",
        "Confianza de {'Leche'} ⇒ {'Pan'}: 0.75\n",
        "```\n",
        "\n",
        "#### Generar Todas las Reglas Posibles de Tamaño 1\n",
        "\n",
        "Podemos automatizar el proceso para generar todas las posibles reglas de asociación con antecedente y consecuente de tamaño 1 y calcular sus soportes y confianzas."
      ],
      "metadata": {
        "id": "oVxGBwawjnJ3"
      }
    },
    {
      "cell_type": "code",
      "source": [
        "from itertools import permutations\n",
        "\n",
        "# Generar todas las reglas posibles de tamaño 1 ⇒ 1\n",
        "reglas = []\n",
        "for antecedente in items_unicos:\n",
        "    for consecuente in items_unicos:\n",
        "        if antecedente != consecuente:\n",
        "            reglas.append(( {antecedente}, {consecuente} ))\n",
        "\n",
        "# Calcular soporte y confianza para cada regla\n",
        "for antecedente, consecuente in reglas:\n",
        "    soporte_antecedente = calcular_soporte(antecedente, transacciones)\n",
        "    soporte_consecuente = calcular_soporte(consecuente, transacciones)\n",
        "    soporte_union = calcular_soporte(antecedente.union(consecuente), transacciones)\n",
        "    confianza = calcular_confianza(antecedente, consecuente, transacciones)\n",
        "    print(f\"Regla: {antecedente} ⇒ {consecuente}\")\n",
        "    print(f\" - Soporte del antecedente: {soporte_antecedente:.2f}\")\n",
        "    print(f\" - Soporte del consecuente: {soporte_consecuente:.2f}\")\n",
        "    print(f\" - Soporte de la unión: {soporte_union:.2f}\")\n",
        "    print(f\" - Confianza: {confianza:.2f}\\n\")"
      ],
      "metadata": {
        "colab": {
          "base_uri": "https://localhost:8080/"
        },
        "id": "VQjuF6rOjm6D",
        "outputId": "6f7cadf4-37e0-4a65-b279-0e44c04ebec0"
      },
      "execution_count": 14,
      "outputs": [
        {
          "output_type": "stream",
          "name": "stdout",
          "text": [
            "Regla: {'Leche'} ⇒ {'Pan'}\n",
            " - Soporte del antecedente: 0.80\n",
            " - Soporte del consecuente: 0.80\n",
            " - Soporte de la unión: 0.60\n",
            " - Confianza: 0.75\n",
            "\n",
            "Regla: {'Leche'} ⇒ {'Coca-Cola'}\n",
            " - Soporte del antecedente: 0.80\n",
            " - Soporte del consecuente: 0.20\n",
            " - Soporte de la unión: 0.20\n",
            " - Confianza: 0.25\n",
            "\n",
            "Regla: {'Leche'} ⇒ {'Huevos'}\n",
            " - Soporte del antecedente: 0.80\n",
            " - Soporte del consecuente: 0.20\n",
            " - Soporte de la unión: 0.20\n",
            " - Confianza: 0.25\n",
            "\n",
            "Regla: {'Leche'} ⇒ {'Pañales'}\n",
            " - Soporte del antecedente: 0.80\n",
            " - Soporte del consecuente: 0.60\n",
            " - Soporte de la unión: 0.40\n",
            " - Confianza: 0.50\n",
            "\n",
            "Regla: {'Leche'} ⇒ {'Cerveza'}\n",
            " - Soporte del antecedente: 0.80\n",
            " - Soporte del consecuente: 0.80\n",
            " - Soporte de la unión: 0.60\n",
            " - Confianza: 0.75\n",
            "\n",
            "Regla: {'Pan'} ⇒ {'Leche'}\n",
            " - Soporte del antecedente: 0.80\n",
            " - Soporte del consecuente: 0.80\n",
            " - Soporte de la unión: 0.60\n",
            " - Confianza: 0.75\n",
            "\n",
            "Regla: {'Pan'} ⇒ {'Coca-Cola'}\n",
            " - Soporte del antecedente: 0.80\n",
            " - Soporte del consecuente: 0.20\n",
            " - Soporte de la unión: 0.20\n",
            " - Confianza: 0.25\n",
            "\n",
            "Regla: {'Pan'} ⇒ {'Huevos'}\n",
            " - Soporte del antecedente: 0.80\n",
            " - Soporte del consecuente: 0.20\n",
            " - Soporte de la unión: 0.00\n",
            " - Confianza: 0.00\n",
            "\n",
            "Regla: {'Pan'} ⇒ {'Pañales'}\n",
            " - Soporte del antecedente: 0.80\n",
            " - Soporte del consecuente: 0.60\n",
            " - Soporte de la unión: 0.40\n",
            " - Confianza: 0.50\n",
            "\n",
            "Regla: {'Pan'} ⇒ {'Cerveza'}\n",
            " - Soporte del antecedente: 0.80\n",
            " - Soporte del consecuente: 0.80\n",
            " - Soporte de la unión: 0.60\n",
            " - Confianza: 0.75\n",
            "\n",
            "Regla: {'Coca-Cola'} ⇒ {'Leche'}\n",
            " - Soporte del antecedente: 0.20\n",
            " - Soporte del consecuente: 0.80\n",
            " - Soporte de la unión: 0.20\n",
            " - Confianza: 1.00\n",
            "\n",
            "Regla: {'Coca-Cola'} ⇒ {'Pan'}\n",
            " - Soporte del antecedente: 0.20\n",
            " - Soporte del consecuente: 0.80\n",
            " - Soporte de la unión: 0.20\n",
            " - Confianza: 1.00\n",
            "\n",
            "Regla: {'Coca-Cola'} ⇒ {'Huevos'}\n",
            " - Soporte del antecedente: 0.20\n",
            " - Soporte del consecuente: 0.20\n",
            " - Soporte de la unión: 0.00\n",
            " - Confianza: 0.00\n",
            "\n",
            "Regla: {'Coca-Cola'} ⇒ {'Pañales'}\n",
            " - Soporte del antecedente: 0.20\n",
            " - Soporte del consecuente: 0.60\n",
            " - Soporte de la unión: 0.00\n",
            " - Confianza: 0.00\n",
            "\n",
            "Regla: {'Coca-Cola'} ⇒ {'Cerveza'}\n",
            " - Soporte del antecedente: 0.20\n",
            " - Soporte del consecuente: 0.80\n",
            " - Soporte de la unión: 0.20\n",
            " - Confianza: 1.00\n",
            "\n",
            "Regla: {'Huevos'} ⇒ {'Leche'}\n",
            " - Soporte del antecedente: 0.20\n",
            " - Soporte del consecuente: 0.80\n",
            " - Soporte de la unión: 0.20\n",
            " - Confianza: 1.00\n",
            "\n",
            "Regla: {'Huevos'} ⇒ {'Pan'}\n",
            " - Soporte del antecedente: 0.20\n",
            " - Soporte del consecuente: 0.80\n",
            " - Soporte de la unión: 0.00\n",
            " - Confianza: 0.00\n",
            "\n",
            "Regla: {'Huevos'} ⇒ {'Coca-Cola'}\n",
            " - Soporte del antecedente: 0.20\n",
            " - Soporte del consecuente: 0.20\n",
            " - Soporte de la unión: 0.00\n",
            " - Confianza: 0.00\n",
            "\n",
            "Regla: {'Huevos'} ⇒ {'Pañales'}\n",
            " - Soporte del antecedente: 0.20\n",
            " - Soporte del consecuente: 0.60\n",
            " - Soporte de la unión: 0.20\n",
            " - Confianza: 1.00\n",
            "\n",
            "Regla: {'Huevos'} ⇒ {'Cerveza'}\n",
            " - Soporte del antecedente: 0.20\n",
            " - Soporte del consecuente: 0.80\n",
            " - Soporte de la unión: 0.20\n",
            " - Confianza: 1.00\n",
            "\n",
            "Regla: {'Pañales'} ⇒ {'Leche'}\n",
            " - Soporte del antecedente: 0.60\n",
            " - Soporte del consecuente: 0.80\n",
            " - Soporte de la unión: 0.40\n",
            " - Confianza: 0.67\n",
            "\n",
            "Regla: {'Pañales'} ⇒ {'Pan'}\n",
            " - Soporte del antecedente: 0.60\n",
            " - Soporte del consecuente: 0.80\n",
            " - Soporte de la unión: 0.40\n",
            " - Confianza: 0.67\n",
            "\n",
            "Regla: {'Pañales'} ⇒ {'Coca-Cola'}\n",
            " - Soporte del antecedente: 0.60\n",
            " - Soporte del consecuente: 0.20\n",
            " - Soporte de la unión: 0.00\n",
            " - Confianza: 0.00\n",
            "\n",
            "Regla: {'Pañales'} ⇒ {'Huevos'}\n",
            " - Soporte del antecedente: 0.60\n",
            " - Soporte del consecuente: 0.20\n",
            " - Soporte de la unión: 0.20\n",
            " - Confianza: 0.33\n",
            "\n",
            "Regla: {'Pañales'} ⇒ {'Cerveza'}\n",
            " - Soporte del antecedente: 0.60\n",
            " - Soporte del consecuente: 0.80\n",
            " - Soporte de la unión: 0.60\n",
            " - Confianza: 1.00\n",
            "\n",
            "Regla: {'Cerveza'} ⇒ {'Leche'}\n",
            " - Soporte del antecedente: 0.80\n",
            " - Soporte del consecuente: 0.80\n",
            " - Soporte de la unión: 0.60\n",
            " - Confianza: 0.75\n",
            "\n",
            "Regla: {'Cerveza'} ⇒ {'Pan'}\n",
            " - Soporte del antecedente: 0.80\n",
            " - Soporte del consecuente: 0.80\n",
            " - Soporte de la unión: 0.60\n",
            " - Confianza: 0.75\n",
            "\n",
            "Regla: {'Cerveza'} ⇒ {'Coca-Cola'}\n",
            " - Soporte del antecedente: 0.80\n",
            " - Soporte del consecuente: 0.20\n",
            " - Soporte de la unión: 0.20\n",
            " - Confianza: 0.25\n",
            "\n",
            "Regla: {'Cerveza'} ⇒ {'Huevos'}\n",
            " - Soporte del antecedente: 0.80\n",
            " - Soporte del consecuente: 0.20\n",
            " - Soporte de la unión: 0.20\n",
            " - Confianza: 0.25\n",
            "\n",
            "Regla: {'Cerveza'} ⇒ {'Pañales'}\n",
            " - Soporte del antecedente: 0.80\n",
            " - Soporte del consecuente: 0.60\n",
            " - Soporte de la unión: 0.60\n",
            " - Confianza: 0.75\n",
            "\n"
          ]
        }
      ]
    },
    {
      "cell_type": "markdown",
      "source": [
        "**Salida Parcial:**\n",
        "\n",
        "```\n",
        "Regla: {'Leche'} ⇒ {'Pan'}\n",
        " - Soporte del antecedente: 0.80\n",
        " - Soporte del consecuente: 0.80\n",
        " - Soporte de la unión: 0.60\n",
        " - Confianza: 0.75\n",
        "\n",
        "Regla: {'Leche'} ⇒ {'Coca-Cola'}\n",
        " - Soporte del antecedente: 0.80\n",
        " - Soporte del consecuente: 0.20\n",
        " - Soporte de la unión: 0.20\n",
        " - Confianza: 0.25\n",
        "\n",
        "...\n",
        "\n",
        "Regla: {'Cerveza'} ⇒ {'Pañales'}\n",
        " - Soporte del antecedente: 0.80\n",
        " - Soporte del consecuente: 0.60\n",
        " - Soporte de la unión: 0.60\n",
        " - Confianza: 0.75\n",
        "\n",
        "...\n",
        "```\n",
        "\n",
        "### Filtrado de Reglas Significativas\n",
        "\n",
        "Para enfocarnos en reglas más interesantes, podemos establecer umbrales mínimos de soporte y confianza."
      ],
      "metadata": {
        "id": "hWegGWRFmwvs"
      }
    },
    {
      "cell_type": "code",
      "source": [
        "# Umbrales mínimos\n",
        "min_soporte = 0.2\n",
        "min_confianza = 0.7\n",
        "\n",
        "# Filtrar reglas que cumplen los umbrales\n",
        "reglas_filtradas = []\n",
        "for antecedente, consecuente in reglas:\n",
        "    confianza = calcular_confianza(antecedente, consecuente, transacciones)\n",
        "    if confianza >= min_confianza:\n",
        "        #soporte_antecedente = calcular_soporte(antecedente, transacciones)\n",
        "        soporte_union = calcular_soporte(antecedente.union(consecuente), transacciones)\n",
        "        if soporte_union >= min_soporte:\n",
        "            reglas_filtradas.append((antecedente, consecuente, confianza))\n",
        "\n",
        "# Mostrar reglas filtradas\n",
        "for antecedente, consecuente, confianza in reglas_filtradas:\n",
        "    print(f\"Regla: {antecedente} ⇒ {consecuente}, Confianza: {confianza:.2f}\")"
      ],
      "metadata": {
        "colab": {
          "base_uri": "https://localhost:8080/"
        },
        "id": "t9qSoPKkmwlf",
        "outputId": "8194a049-96c1-4aa9-87c3-2b6b841e4226"
      },
      "execution_count": 15,
      "outputs": [
        {
          "output_type": "stream",
          "name": "stdout",
          "text": [
            "Regla: {'Leche'} ⇒ {'Pan'}, Confianza: 0.75\n",
            "Regla: {'Leche'} ⇒ {'Cerveza'}, Confianza: 0.75\n",
            "Regla: {'Pan'} ⇒ {'Leche'}, Confianza: 0.75\n",
            "Regla: {'Pan'} ⇒ {'Cerveza'}, Confianza: 0.75\n",
            "Regla: {'Coca-Cola'} ⇒ {'Leche'}, Confianza: 1.00\n",
            "Regla: {'Coca-Cola'} ⇒ {'Pan'}, Confianza: 1.00\n",
            "Regla: {'Coca-Cola'} ⇒ {'Cerveza'}, Confianza: 1.00\n",
            "Regla: {'Huevos'} ⇒ {'Leche'}, Confianza: 1.00\n",
            "Regla: {'Huevos'} ⇒ {'Pañales'}, Confianza: 1.00\n",
            "Regla: {'Huevos'} ⇒ {'Cerveza'}, Confianza: 1.00\n",
            "Regla: {'Pañales'} ⇒ {'Cerveza'}, Confianza: 1.00\n",
            "Regla: {'Cerveza'} ⇒ {'Leche'}, Confianza: 0.75\n",
            "Regla: {'Cerveza'} ⇒ {'Pan'}, Confianza: 0.75\n",
            "Regla: {'Cerveza'} ⇒ {'Pañales'}, Confianza: 0.75\n"
          ]
        }
      ]
    },
    {
      "cell_type": "markdown",
      "source": [
        "**Salida:**\n",
        "\n",
        "```\n",
        "Regla: {'Leche'} ⇒ {'Pan'}, Confianza: 0.75\n",
        "Regla: {'Leche'} ⇒ {'Cerveza'}, Confianza: 0.75\n",
        "Regla: {'Pan'} ⇒ {'Leche'}, Confianza: 0.75\n",
        "Regla: {'Pan'} ⇒ {'Cerveza'}, Confianza: 0.75\n",
        "Regla: {'Coca-Cola'} ⇒ {'Leche'}, Confianza: 1.00\n",
        "Regla: {'Coca-Cola'} ⇒ {'Pan'}, Confianza: 1.00\n",
        "Regla: {'Coca-Cola'} ⇒ {'Cerveza'}, Confianza: 1.00\n",
        "Regla: {'Huevos'} ⇒ {'Leche'}, Confianza: 1.00\n",
        "Regla: {'Huevos'} ⇒ {'Pañales'}, Confianza: 1.00\n",
        "Regla: {'Huevos'} ⇒ {'Cerveza'}, Confianza: 1.00\n",
        "Regla: {'Pañales'} ⇒ {'Cerveza'}, Confianza: 1.00\n",
        "Regla: {'Cerveza'} ⇒ {'Leche'}, Confianza: 0.75\n",
        "Regla: {'Cerveza'} ⇒ {'Pan'}, Confianza: 0.75\n",
        "Regla: {'Cerveza'} ⇒ {'Pañales'}, Confianza: 0.75\n",
        "```\n",
        "\n",
        "### Interpretación\n",
        "\n",
        "- La regla \\{'Pañales'\\} ⇒ \\{'Cerveza'\\} tiene una confianza de 1.00, lo que indica que siempre que se compran **Pañales**, también se compra **Cerveza** en nuestro conjunto de datos.\n",
        "- La regla \\{'Leche'\\} ⇒ \\{'Pan'\\} tiene una confianza de 0.75, lo que sugiere una fuerte asociación entre **Leche** y **Pan**.\n",
        "\n",
        "## 2.4 Ejercicios Prácticos\n",
        "\n",
        "### Ejercicio 1: Cálculo de Soporte\n",
        "\n",
        "Dado el conjunto de transacciones proporcionado, calcule el soporte de los siguientes itemsets:\n",
        "\n",
        "a) \\{'Cerveza'\\}\n",
        "\n",
        "b) \\{'Pan', 'Pañales'\\}\n",
        "\n",
        "c) \\{'Leche', 'Cerveza'\\}\n",
        "\n",
        "**Solución:**"
      ],
      "metadata": {
        "id": "-vb-12clqSDU"
      }
    },
    {
      "cell_type": "code",
      "source": [
        "# a) Soporte de {'Cerveza'}\n",
        "itemset_a = {'Cerveza'}\n",
        "soporte_a = calcular_soporte(itemset_a, transacciones)\n",
        "print(f\"Soporte de {itemset_a}: {soporte_a:.2f}\")\n",
        "\n",
        "# b) Soporte de {'Pan', 'Pañales'}\n",
        "itemset_b = {'Pan', 'Pañales'}\n",
        "soporte_b = calcular_soporte(itemset_b, transacciones)\n",
        "print(f\"Soporte de {itemset_b}: {soporte_b:.2f}\")\n",
        "\n",
        "# c) Soporte de {'Leche', 'Cerveza'}\n",
        "itemset_c = {'Leche', 'Cerveza'}\n",
        "soporte_c = calcular_soporte(itemset_c, transacciones)\n",
        "print(f\"Soporte de {itemset_c}: {soporte_c:.2f}\")"
      ],
      "metadata": {
        "colab": {
          "base_uri": "https://localhost:8080/"
        },
        "id": "yC_515g0qR2p",
        "outputId": "4a07ab0e-476e-460c-e579-317567052da0"
      },
      "execution_count": 16,
      "outputs": [
        {
          "output_type": "stream",
          "name": "stdout",
          "text": [
            "Soporte de {'Cerveza'}: 0.80\n",
            "Soporte de {'Pañales', 'Pan'}: 0.40\n",
            "Soporte de {'Leche', 'Cerveza'}: 0.60\n"
          ]
        }
      ]
    },
    {
      "cell_type": "markdown",
      "source": [
        "**Salida:**\n",
        "\n",
        "```\n",
        "Soporte de {'Cerveza'}: 0.80\n",
        "Soporte de {'Pan', 'Pañales'}: 0.40\n",
        "Soporte de {'Leche', 'Cerveza'}: 0.60\n",
        "```\n",
        "\n",
        "### Ejercicio 2: Cálculo de Confianza\n",
        "\n",
        "Calcule la confianza de las siguientes reglas:\n",
        "\n",
        "a) \\{'Pan'\\} ⇒ \\{'Cerveza'\\}\n",
        "\n",
        "b) \\{'Cerveza'\\} ⇒ \\{'Pan'\\}\n",
        "\n",
        "c) \\{'Leche', 'Pan'\\} ⇒ \\{'Cerveza'\\}\n",
        "\n",
        "**Solución:**"
      ],
      "metadata": {
        "id": "n7CbnsFmqjxN"
      }
    },
    {
      "cell_type": "code",
      "source": [
        "# a) Confianza de {'Pan'} ⇒ {'Cerveza'}\n",
        "antecedente_a = {'Pan'}\n",
        "consecuente_a = {'Cerveza'}\n",
        "confianza_a = calcular_confianza(antecedente_a, consecuente_a, transacciones)\n",
        "print(f\"Confianza de {antecedente_a} ⇒ {consecuente_a}: {confianza_a:.2f}\")\n",
        "\n",
        "# b) Confianza de {'Cerveza'} ⇒ {'Pan'}\n",
        "antecedente_b = {'Cerveza'}\n",
        "consecuente_b = {'Pan'}\n",
        "confianza_b = calcular_confianza(antecedente_b, consecuente_b, transacciones)\n",
        "print(f\"Confianza de {antecedente_b} ⇒ {consecuente_b}: {confianza_b:.2f}\")\n",
        "\n",
        "# c) Confianza de {'Leche', 'Pan'} ⇒ {'Cerveza'}\n",
        "antecedente_c = {'Leche', 'Pan'}\n",
        "consecuente_c = {'Cerveza'}\n",
        "confianza_c = calcular_confianza(antecedente_c, consecuente_c, transacciones)\n",
        "print(f\"Confianza de {antecedente_c} ⇒ {consecuente_c}: {confianza_c:.2f}\")"
      ],
      "metadata": {
        "colab": {
          "base_uri": "https://localhost:8080/"
        },
        "id": "h3ylJXJAqjoR",
        "outputId": "d11977a9-a30a-4408-f516-e509125032c3"
      },
      "execution_count": 17,
      "outputs": [
        {
          "output_type": "stream",
          "name": "stdout",
          "text": [
            "Confianza de {'Pan'} ⇒ {'Cerveza'}: 0.75\n",
            "Confianza de {'Cerveza'} ⇒ {'Pan'}: 0.75\n",
            "Confianza de {'Leche', 'Pan'} ⇒ {'Cerveza'}: 0.67\n"
          ]
        }
      ]
    },
    {
      "cell_type": "markdown",
      "source": [
        "**Salida:**\n",
        "\n",
        "```\n",
        "Confianza de {'Pan'} ⇒ {'Cerveza'}: 0.50\n",
        "Confianza de {'Cerveza'} ⇒ {'Pan'}: 0.50\n",
        "Confianza de {'Leche', 'Pan'} ⇒ {'Cerveza'}: 0.67\n",
        "```\n",
        "\n",
        "### Ejercicio 3: Generación de Reglas con Umbrales\n",
        "\n",
        "Escriba un código que genere todas las reglas posibles de tamaño 1 ⇒ 1, y filtre aquellas que tengan un soporte mínimo de 0.4 y una confianza mínima de 0.6.\n",
        "\n",
        "**Solución:**"
      ],
      "metadata": {
        "id": "LRFGb6PPquf8"
      }
    },
    {
      "cell_type": "code",
      "source": [
        "# Umbrales mínimos\n",
        "min_soporte = 0.4\n",
        "min_confianza = 0.6\n",
        "\n",
        "# Generar y filtrar reglas\n",
        "reglas_filtradas = []\n",
        "for antecedente in items_unicos:\n",
        "    for consecuente in items_unicos:\n",
        "        if antecedente != consecuente:\n",
        "            antecedente_set = {antecedente}\n",
        "            consecuente_set = {consecuente}\n",
        "            confianza = calcular_confianza(antecedente_set, consecuente_set, transacciones)\n",
        "            soporte_union = calcular_soporte(antecedente_set.union(consecuente_set), transacciones)\n",
        "            if confianza >= min_confianza and soporte_union >= min_soporte:\n",
        "                reglas_filtradas.append((antecedente_set, consecuente_set, confianza))\n",
        "\n",
        "# Mostrar reglas filtradas\n",
        "for antecedente, consecuente, confianza in reglas_filtradas:\n",
        "    print(f\"Regla: {antecedente} ⇒ {consecuente}, Confianza: {confianza:.2f}\")\n"
      ],
      "metadata": {
        "colab": {
          "base_uri": "https://localhost:8080/"
        },
        "id": "cyv28v3UquVV",
        "outputId": "1dcafdd6-4def-402c-97c9-ae72f8725833"
      },
      "execution_count": 18,
      "outputs": [
        {
          "output_type": "stream",
          "name": "stdout",
          "text": [
            "Regla: {'Leche'} ⇒ {'Pan'}, Confianza: 0.75\n",
            "Regla: {'Leche'} ⇒ {'Cerveza'}, Confianza: 0.75\n",
            "Regla: {'Pan'} ⇒ {'Leche'}, Confianza: 0.75\n",
            "Regla: {'Pan'} ⇒ {'Cerveza'}, Confianza: 0.75\n",
            "Regla: {'Pañales'} ⇒ {'Leche'}, Confianza: 0.67\n",
            "Regla: {'Pañales'} ⇒ {'Pan'}, Confianza: 0.67\n",
            "Regla: {'Pañales'} ⇒ {'Cerveza'}, Confianza: 1.00\n",
            "Regla: {'Cerveza'} ⇒ {'Leche'}, Confianza: 0.75\n",
            "Regla: {'Cerveza'} ⇒ {'Pan'}, Confianza: 0.75\n",
            "Regla: {'Cerveza'} ⇒ {'Pañales'}, Confianza: 0.75\n"
          ]
        }
      ]
    },
    {
      "cell_type": "markdown",
      "source": [
        "**Salida:**\n",
        "\n",
        "```\n",
        "Regla: {'Pan'} ⇒ {'Leche'}, Confianza: 0.75\n",
        "Regla: {'Leche'} ⇒ {'Pan'}, Confianza: 0.75\n",
        "Regla: {'Leche'} ⇒ {'Cerveza'}, Confianza: 0.75\n",
        "Regla: {'Pañales'} ⇒ {'Leche'}, Confianza: 1.00\n",
        "Regla: {'Pañales'} ⇒ {'Cerveza'}, Confianza: 1.00\n",
        "Regla: {'Cerveza'} ⇒ {'Leche'}, Confianza: 0.75\n",
        "Regla: {'Cerveza'} ⇒ {'Pañales'}, Confianza: 0.75\n",
        "```\n",
        "\n",
        "### Ejercicio 4: Interpretación de Resultados\n",
        "\n",
        "Para las reglas obtenidas en el ejercicio anterior:\n",
        "\n",
        "a) Elija dos reglas y discuta su posible utilidad en un contexto comercial.\n",
        "\n",
        "b) ¿Qué podría indicar una confianza alta pero un soporte bajo?\n",
        "\n",
        "**Solución:**\n",
        "\n",
        "a) Análisis de dos reglas:\n",
        "\n",
        "- **Regla 1**: \\{'Pan'\\} ⇒ \\{'Leche'\\}, Confianza: 0.75\n",
        "\n",
        "  - **Interpretación**: El 75% de los clientes que compran **Pan** también compran **Leche**. Esto sugiere una fuerte asociación entre estos productos.\n",
        "  - **Utilidad**: La tienda puede considerar colocar **Leche** y **Pan** cerca en el establecimiento o crear promociones conjuntas para aumentar las ventas.\n",
        "\n",
        "- **Regla 2**: \\{'Pañales'\\} ⇒ \\{'Cerveza'\\}, Confianza: 1.00\n",
        "\n",
        "  - **Interpretación**: Todos los clientes que compran **Pañales** también compran **Cerveza**.\n",
        "  - **Utilidad**: Esta regla podría ser aprovechada para promociones dirigidas a padres jóvenes, o para analizar comportamientos de compra inesperados.\n",
        "\n",
        "b) Una **confianza alta** pero un **soporte bajo** indica que, aunque la relación es fuerte cuando el antecedente ocurre, el antecedente ocurre con poca frecuencia en el conjunto de datos. Esto significa que la regla es aplicable a un segmento pequeño de transacciones. En un contexto comercial, podría ser una oportunidad para nichos específicos, pero no tendrá un impacto significativo en términos generales.\n",
        "\n",
        "## Resumen del Capítulo\n",
        "\n",
        "En este capítulo, profundizamos en los conceptos básicos fundamentales para entender y aplicar las reglas de asociación:\n",
        "\n",
        "- **Itemsets y Transacciones**: Comprendimos cómo se representan y utilizan en el análisis de reglas de asociación.\n",
        "- **Medidas de Interés Básicas**: Aprendimos a calcular el soporte y la confianza, esenciales para evaluar la relevancia de itemsets y reglas.\n",
        "- **Implementación en Python**: Aplicamos los conceptos teóricos mediante código práctico, fortaleciendo la comprensión y habilidades técnicas.\n",
        "- **Ejercicios Prácticos**: A través de ejercicios, consolidamos el aprendizaje y exploramos la interpretación de resultados en contextos reales.\n",
        "\n",
        "Este fundamento es esencial para avanzar hacia algoritmos más complejos y eficientes que nos permitirán descubrir patrones más profundos en grandes conjuntos de datos.\n",
        "\n",
        "---\n",
        "\n",
        "**Próximos Pasos:**\n",
        "\n",
        "En el próximo capítulo, abordaremos el problema de la minería de itemsets frecuentes, explorando los desafíos asociados y sentando las bases para introducir algoritmos como Apriori y FP-Growth.\n",
        "\n",
        "---\n",
        "\n",
        "**Referencias**\n",
        "\n",
        "- Agrawal, R., Imieliński, T., & Swami, A. (1993). Mining association rules between sets of items in large databases. *ACM SIGMOD Record*, 22(2), 207-216.\n",
        "- Han, J., Kamber, M., & Pei, J. (2011). *Data Mining: Concepts and Techniques*. Elsevier.\n",
        "\n",
        "---"
      ],
      "metadata": {
        "id": "v4XHfI6CMk9s"
      }
    }
  ]
}